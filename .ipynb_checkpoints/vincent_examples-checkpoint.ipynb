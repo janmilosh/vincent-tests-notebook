{
 "metadata": {
  "name": "",
  "signature": "sha256:d8a90756bacc84d1570be7f979668fe3aed7768b5fba8744478fb1103a8d9dca"
 },
 "nbformat": 3,
 "nbformat_minor": 0,
 "worksheets": []
}