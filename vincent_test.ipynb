{
 "metadata": {
  "name": "vincent_test"
 }, 
 "nbformat": 2, 
 "worksheets": [
  {
   "cells": [
    {
     "cell_type": "code", 
     "collapsed": true, 
     "input": [
      "from pandas.io.data import DataReader", 
      "from pandas import TimeSeries, DataFrame"
     ], 
     "language": "python", 
     "outputs": [], 
     "prompt_number": 1
    }
   ]
  }
 ]
}