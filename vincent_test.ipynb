{
 "metadata": {
  "name": "",
  "signature": "sha256:43db8cc4d9a501a88f9b2379a5b03fb7dea4dc0ebce6f98e6f353e3cb27b5d67"
 },
 "nbformat": 3,
 "nbformat_minor": 0,
 "worksheets": [
  {
   "cells": [
    {
     "cell_type": "code",
     "collapsed": false,
     "input": [
      "from pandas.io.data import DataReader\n",
      "from pandas import DataFrame, Series\n",
      "from datetime import datetime\n",
      "from pandas import DatetimeIndex"
     ],
     "language": "python",
     "metadata": {},
     "outputs": [],
     "prompt_number": 2
    },
    {
     "cell_type": "code",
     "collapsed": false,
     "input": [
      "import vincent\n",
      "vincent.core.initialize_notebook()\n",
      "\n",
      "from pandas.io.data import DataReader\n",
      "\n",
      "data = DataReader('tsla', 'yahoo', start = '01-01-2014')\n",
      "\n",
      "high = data['High']\n",
      "\n",
      "high"
     ],
     "language": "python",
     "metadata": {},
     "outputs": [
      {
       "html": [
        "\n",
        "           <script>\n",
        "               \n",
        "                function vct_load_lib(url, callback){\n",
        "                      if(typeof d3 !== 'undefined' &&\n",
        "                         url === 'http://d3js.org/d3.v3.min.js'){\n",
        "                        callback()\n",
        "                      }\n",
        "                      var s = document.createElement('script');\n",
        "                      s.src = url;\n",
        "                      s.async = true;\n",
        "                      s.onreadystatechange = s.onload = callback;\n",
        "                      s.onerror = function(){\n",
        "                        console.warn(\"failed to load library \" + url);\n",
        "                        };\n",
        "                      document.getElementsByTagName(\"head\")[0].appendChild(s);\n",
        "                };\n",
        "                var vincent_event = new CustomEvent(\n",
        "                  \"vincent_libs_loaded\",\n",
        "                  {bubbles: true, cancelable: true}\n",
        "                );\n",
        "                \n",
        "               function load_all_libs(){\n",
        "                  console.log('Loading Vincent libs...')\n",
        "                  vct_load_lib('http://d3js.org/d3.v3.min.js', function(){\n",
        "                  vct_load_lib('http://d3js.org/d3.geo.projection.v0.min.js', function(){\n",
        "                  vct_load_lib('http://wrobstory.github.io/d3-cloud/d3.layout.cloud.js', function(){\n",
        "                  vct_load_lib('http://wrobstory.github.io/vega/vega.v1.3.3.js', function(){\n",
        "                  window.dispatchEvent(vincent_event);\n",
        "                  });\n",
        "                  });\n",
        "                  });\n",
        "                  });\n",
        "               };\n",
        "               if(typeof define === \"function\" && define.amd){\n",
        "                    if (window['d3'] === undefined ||\n",
        "                        window['topojson'] === undefined){\n",
        "                        require.config(\n",
        "                            {paths: {\n",
        "                              d3: 'http://d3js.org/d3.v3.min',\n",
        "                              topojson: 'http://d3js.org/topojson.v1.min'\n",
        "                              }\n",
        "                            }\n",
        "                          );\n",
        "                        require([\"d3\"], function(d3){\n",
        "                            console.log('Loading Vincent from require.js...')\n",
        "                            window.d3 = d3;\n",
        "                            require([\"topojson\"], function(topojson){\n",
        "                                window.topojson = topojson;\n",
        "                                load_all_libs();\n",
        "                            });\n",
        "                        });\n",
        "                    } else {\n",
        "                        load_all_libs();\n",
        "                    };\n",
        "               }else{\n",
        "                    console.log('Require.js not found, loading manually...')\n",
        "                    load_all_libs();\n",
        "               };\n",
        "\n",
        "           </script>"
       ],
       "metadata": {},
       "output_type": "display_data",
       "text": [
        "<IPython.core.display.HTML at 0x10ba53e10>"
       ]
      },
      {
       "metadata": {},
       "output_type": "pyout",
       "prompt_number": 3,
       "text": [
        "Date\n",
        "2014-01-02    152.48\n",
        "2014-01-03    152.19\n",
        "2014-01-06    150.40\n",
        "2014-01-07    150.40\n",
        "2014-01-08    153.70\n",
        "2014-01-09    153.43\n",
        "2014-01-10    148.90\n",
        "2014-01-13    147.00\n",
        "2014-01-14    162.00\n",
        "2014-01-15    172.23\n",
        "2014-01-16    172.70\n",
        "2014-01-17    173.20\n",
        "2014-01-21    177.29\n",
        "2014-01-22    180.32\n",
        "2014-01-23    182.38\n",
        "...\n",
        "2014-08-04    240.50\n",
        "2014-08-05    242.99\n",
        "2014-08-06    251.42\n",
        "2014-08-07    256.69\n",
        "2014-08-08    251.76\n",
        "2014-08-11    263.74\n",
        "2014-08-12    260.30\n",
        "2014-08-13    265.64\n",
        "2014-08-14    263.00\n",
        "2014-08-15    262.09\n",
        "2014-08-18    267.26\n",
        "2014-08-19    259.33\n",
        "2014-08-20    258.74\n",
        "2014-08-21    258.80\n",
        "2014-08-22    256.95\n",
        "Name: High, Length: 162"
       ]
      }
     ],
     "prompt_number": 3
    },
    {
     "cell_type": "code",
     "collapsed": false,
     "input": [
      "from vincent import AxisProperties, PropertySet, ValueRef\n",
      "\n",
      "line = vincent.Line(high)\n",
      "\n",
      "#rotate x axis labels\n",
      "ax = AxisProperties(labels = PropertySet(angle=ValueRef(value=45)))\n",
      "line.axes[0].properties = ax\n",
      "line.axis_titles(x='Date', y='Daily High')\n",
      "line.title='plot title'\n",
      "#line.width = 500\n",
      "#line.height=250\n",
      "line.display()"
     ],
     "language": "python",
     "metadata": {},
     "outputs": [
      {
       "html": [
        "<div id=\"visf67fc32de6994c5ca5cad95af6b3288e\"></div>\n",
        "<script>\n",
        "   ( function() {\n",
        "     var _do_plot = function() {\n",
        "       if (typeof vg === 'undefined') {\n",
        "         window.addEventListener('vincent_libs_loaded', _do_plot)\n",
        "         return;\n",
        "       }\n",
        "       vg.parse.spec({\"axes\": [{\"properties\": {\"labels\": {\"angle\": {\"value\": 45}}}, \"scale\": \"x\", \"title\": \"Date\", \"type\": \"x\"}, {\"scale\": \"y\", \"title\": \"Daily High\", \"type\": \"y\"}], \"data\": [{\"name\": \"table\", \"values\": [{\"col\": \"High\", \"idx\": 1388638800000, \"val\": 152.48}, {\"col\": \"High\", \"idx\": 1388725200000, \"val\": 152.19}, {\"col\": \"High\", \"idx\": 1388984400000, \"val\": 150.4}, {\"col\": \"High\", \"idx\": 1389070800000, \"val\": 150.4}, {\"col\": \"High\", \"idx\": 1389157200000, \"val\": 153.7}, {\"col\": \"High\", \"idx\": 1389243600000, \"val\": 153.43}, {\"col\": \"High\", \"idx\": 1389330000000, \"val\": 148.9}, {\"col\": \"High\", \"idx\": 1389589200000, \"val\": 147.0}, {\"col\": \"High\", \"idx\": 1389675600000, \"val\": 162.0}, {\"col\": \"High\", \"idx\": 1389762000000, \"val\": 172.23}, {\"col\": \"High\", \"idx\": 1389848400000, \"val\": 172.7}, {\"col\": \"High\", \"idx\": 1389934800000, \"val\": 173.2}, {\"col\": \"High\", \"idx\": 1390280400000, \"val\": 177.29}, {\"col\": \"High\", \"idx\": 1390366800000, \"val\": 180.32}, {\"col\": \"High\", \"idx\": 1390453200000, \"val\": 182.38}, {\"col\": \"High\", \"idx\": 1390539600000, \"val\": 180.48}, {\"col\": \"High\", \"idx\": 1390798800000, \"val\": 177.92}, {\"col\": \"High\", \"idx\": 1390885200000, \"val\": 178.98}, {\"col\": \"High\", \"idx\": 1390971600000, \"val\": 179.09}, {\"col\": \"High\", \"idx\": 1391058000000, \"val\": 184.78}, {\"col\": \"High\", \"idx\": 1391144400000, \"val\": 186.0}, {\"col\": \"High\", \"idx\": 1391403600000, \"val\": 184.88}, {\"col\": \"High\", \"idx\": 1391490000000, \"val\": 181.6}, {\"col\": \"High\", \"idx\": 1391576400000, \"val\": 180.59}, {\"col\": \"High\", \"idx\": 1391662800000, \"val\": 180.11}, {\"col\": \"High\", \"idx\": 1391749200000, \"val\": 186.63}, {\"col\": \"High\", \"idx\": 1392008400000, \"val\": 199.3}, {\"col\": \"High\", \"idx\": 1392094800000, \"val\": 202.2}, {\"col\": \"High\", \"idx\": 1392181200000, \"val\": 198.27}, {\"col\": \"High\", \"idx\": 1392267600000, \"val\": 202.72}, {\"col\": \"High\", \"idx\": 1392354000000, \"val\": 201.88}, {\"col\": \"High\", \"idx\": 1392699600000, \"val\": 206.0}, {\"col\": \"High\", \"idx\": 1392786000000, \"val\": 203.7}, {\"col\": \"High\", \"idx\": 1392872400000, \"val\": 215.21}, {\"col\": \"High\", \"idx\": 1392958800000, \"val\": 213.98}, {\"col\": \"High\", \"idx\": 1393218000000, \"val\": 218.36}, {\"col\": \"High\", \"idx\": 1393304400000, \"val\": 259.2}, {\"col\": \"High\", \"idx\": 1393390800000, \"val\": 265.0}, {\"col\": \"High\", \"idx\": 1393477200000, \"val\": 261.9}, {\"col\": \"High\", \"idx\": 1393563600000, \"val\": 252.68}, {\"col\": \"High\", \"idx\": 1393822800000, \"val\": 251.65}, {\"col\": \"High\", \"idx\": 1393909200000, \"val\": 260.0}, {\"col\": \"High\", \"idx\": 1393995600000, \"val\": 256.99}, {\"col\": \"High\", \"idx\": 1394082000000, \"val\": 257.5}, {\"col\": \"High\", \"idx\": 1394168400000, \"val\": 254.85}, {\"col\": \"High\", \"idx\": 1394424000000, \"val\": 243.0}, {\"col\": \"High\", \"idx\": 1394510400000, \"val\": 244.6}, {\"col\": \"High\", \"idx\": 1394596800000, \"val\": 247.5}, {\"col\": \"High\", \"idx\": 1394683200000, \"val\": 244.19}, {\"col\": \"High\", \"idx\": 1394769600000, \"val\": 236.94}, {\"col\": \"High\", \"idx\": 1395028800000, \"val\": 237.93}, {\"col\": \"High\", \"idx\": 1395115200000, \"val\": 241.5}, {\"col\": \"High\", \"idx\": 1395201600000, \"val\": 241.55}, {\"col\": \"High\", \"idx\": 1395288000000, \"val\": 239.25}, {\"col\": \"High\", \"idx\": 1395374400000, \"val\": 236.2}, {\"col\": \"High\", \"idx\": 1395633600000, \"val\": 229.9}, {\"col\": \"High\", \"idx\": 1395720000000, \"val\": 227.05}, {\"col\": \"High\", \"idx\": 1395806400000, \"val\": 222.6}, {\"col\": \"High\", \"idx\": 1395892800000, \"val\": 213.6}, {\"col\": \"High\", \"idx\": 1395979200000, \"val\": 216.72}, {\"col\": \"High\", \"idx\": 1396238400000, \"val\": 216.75}, {\"col\": \"High\", \"idx\": 1396324800000, \"val\": 218.16}, {\"col\": \"High\", \"idx\": 1396411200000, \"val\": 230.89}, {\"col\": \"High\", \"idx\": 1396497600000, \"val\": 235.73}, {\"col\": \"High\", \"idx\": 1396584000000, \"val\": 228.27}, {\"col\": \"High\", \"idx\": 1396843200000, \"val\": 216.2}, {\"col\": \"High\", \"idx\": 1396929600000, \"val\": 216.49}, {\"col\": \"High\", \"idx\": 1397016000000, \"val\": 218.45}, {\"col\": \"High\", \"idx\": 1397102400000, \"val\": 217.5}, {\"col\": \"High\", \"idx\": 1397188800000, \"val\": 207.0}, {\"col\": \"High\", \"idx\": 1397448000000, \"val\": 208.44}, {\"col\": \"High\", \"idx\": 1397534400000, \"val\": 199.29}, {\"col\": \"High\", \"idx\": 1397620800000, \"val\": 199.99}, {\"col\": \"High\", \"idx\": 1397707200000, \"val\": 202.29}, {\"col\": \"High\", \"idx\": 1398052800000, \"val\": 206.2}, {\"col\": \"High\", \"idx\": 1398139200000, \"val\": 219.33}, {\"col\": \"High\", \"idx\": 1398225600000, \"val\": 216.74}, {\"col\": \"High\", \"idx\": 1398312000000, \"val\": 212.8}, {\"col\": \"High\", \"idx\": 1398398400000, \"val\": 206.7}, {\"col\": \"High\", \"idx\": 1398657600000, \"val\": 203.79}, {\"col\": \"High\", \"idx\": 1398744000000, \"val\": 207.15}, {\"col\": \"High\", \"idx\": 1398830400000, \"val\": 208.16}, {\"col\": \"High\", \"idx\": 1398916800000, \"val\": 214.02}, {\"col\": \"High\", \"idx\": 1399003200000, \"val\": 211.36}, {\"col\": \"High\", \"idx\": 1399262400000, \"val\": 217.69}, {\"col\": \"High\", \"idx\": 1399348800000, \"val\": 218.66}, {\"col\": \"High\", \"idx\": 1399435200000, \"val\": 210.2}, {\"col\": \"High\", \"idx\": 1399521600000, \"val\": 194.4}, {\"col\": \"High\", \"idx\": 1399608000000, \"val\": 183.4}, {\"col\": \"High\", \"idx\": 1399867200000, \"val\": 187.19}, {\"col\": \"High\", \"idx\": 1399953600000, \"val\": 191.34}, {\"col\": \"High\", \"idx\": 1400040000000, \"val\": 193.48}, {\"col\": \"High\", \"idx\": 1400126400000, \"val\": 192.66}, {\"col\": \"High\", \"idx\": 1400212800000, \"val\": 192.04}, {\"col\": \"High\", \"idx\": 1400472000000, \"val\": 196.89}, {\"col\": \"High\", \"idx\": 1400558400000, \"val\": 199.33}, {\"col\": \"High\", \"idx\": 1400644800000, \"val\": 199.87}, {\"col\": \"High\", \"idx\": 1400731200000, \"val\": 206.88}, {\"col\": \"High\", \"idx\": 1400817600000, \"val\": 207.76}, {\"col\": \"High\", \"idx\": 1401163200000, \"val\": 213.87}, {\"col\": \"High\", \"idx\": 1401249600000, \"val\": 212.77}, {\"col\": \"High\", \"idx\": 1401336000000, \"val\": 212.49}, {\"col\": \"High\", \"idx\": 1401422400000, \"val\": 214.8}, {\"col\": \"High\", \"idx\": 1401681600000, \"val\": 209.35}, {\"col\": \"High\", \"idx\": 1401768000000, \"val\": 208.0}, {\"col\": \"High\", \"idx\": 1401854400000, \"val\": 206.26}, {\"col\": \"High\", \"idx\": 1401940800000, \"val\": 209.2}, {\"col\": \"High\", \"idx\": 1402027200000, \"val\": 210.81}, {\"col\": \"High\", \"idx\": 1402286400000, \"val\": 209.99}, {\"col\": \"High\", \"idx\": 1402372800000, \"val\": 206.97}, {\"col\": \"High\", \"idx\": 1402459200000, \"val\": 205.0}, {\"col\": \"High\", \"idx\": 1402545600000, \"val\": 209.88}, {\"col\": \"High\", \"idx\": 1402632000000, \"val\": 206.79}, {\"col\": \"High\", \"idx\": 1402891200000, \"val\": 225.49}, {\"col\": \"High\", \"idx\": 1402977600000, \"val\": 235.54}, {\"col\": \"High\", \"idx\": 1403064000000, \"val\": 231.71}, {\"col\": \"High\", \"idx\": 1403150400000, \"val\": 235.31}, {\"col\": \"High\", \"idx\": 1403236800000, \"val\": 231.29}, {\"col\": \"High\", \"idx\": 1403496000000, \"val\": 238.99}, {\"col\": \"High\", \"idx\": 1403582400000, \"val\": 241.88}, {\"col\": \"High\", \"idx\": 1403668800000, \"val\": 237.55}, {\"col\": \"High\", \"idx\": 1403755200000, \"val\": 240.4}, {\"col\": \"High\", \"idx\": 1403841600000, \"val\": 240.0}, {\"col\": \"High\", \"idx\": 1404100800000, \"val\": 244.49}, {\"col\": \"High\", \"idx\": 1404187200000, \"val\": 243.44}, {\"col\": \"High\", \"idx\": 1404273600000, \"val\": 242.33}, {\"col\": \"High\", \"idx\": 1404360000000, \"val\": 231.9}, {\"col\": \"High\", \"idx\": 1404705600000, \"val\": 229.78}, {\"col\": \"High\", \"idx\": 1404792000000, \"val\": 220.96}, {\"col\": \"High\", \"idx\": 1404878400000, \"val\": 224.22}, {\"col\": \"High\", \"idx\": 1404964800000, \"val\": 222.22}, {\"col\": \"High\", \"idx\": 1405051200000, \"val\": 221.6}, {\"col\": \"High\", \"idx\": 1405310400000, \"val\": 228.79}, {\"col\": \"High\", \"idx\": 1405396800000, \"val\": 227.65}, {\"col\": \"High\", \"idx\": 1405483200000, \"val\": 224.8}, {\"col\": \"High\", \"idx\": 1405569600000, \"val\": 220.55}, {\"col\": \"High\", \"idx\": 1405656000000, \"val\": 221.21}, {\"col\": \"High\", \"idx\": 1405915200000, \"val\": 223.21}, {\"col\": \"High\", \"idx\": 1406001600000, \"val\": 223.3}, {\"col\": \"High\", \"idx\": 1406088000000, \"val\": 224.75}, {\"col\": \"High\", \"idx\": 1406174400000, \"val\": 225.1}, {\"col\": \"High\", \"idx\": 1406260800000, \"val\": 226.97}, {\"col\": \"High\", \"idx\": 1406520000000, \"val\": 232.0}, {\"col\": \"High\", \"idx\": 1406606400000, \"val\": 228.3}, {\"col\": \"High\", \"idx\": 1406692800000, \"val\": 229.6}, {\"col\": \"High\", \"idx\": 1406779200000, \"val\": 231.4}, {\"col\": \"High\", \"idx\": 1406865600000, \"val\": 237.5}, {\"col\": \"High\", \"idx\": 1407124800000, \"val\": 240.5}, {\"col\": \"High\", \"idx\": 1407211200000, \"val\": 242.99}, {\"col\": \"High\", \"idx\": 1407297600000, \"val\": 251.42}, {\"col\": \"High\", \"idx\": 1407384000000, \"val\": 256.69}, {\"col\": \"High\", \"idx\": 1407470400000, \"val\": 251.76}, {\"col\": \"High\", \"idx\": 1407729600000, \"val\": 263.74}, {\"col\": \"High\", \"idx\": 1407816000000, \"val\": 260.3}, {\"col\": \"High\", \"idx\": 1407902400000, \"val\": 265.64}, {\"col\": \"High\", \"idx\": 1407988800000, \"val\": 263.0}, {\"col\": \"High\", \"idx\": 1408075200000, \"val\": 262.09}, {\"col\": \"High\", \"idx\": 1408334400000, \"val\": 267.26}, {\"col\": \"High\", \"idx\": 1408420800000, \"val\": 259.33}, {\"col\": \"High\", \"idx\": 1408507200000, \"val\": 258.74}, {\"col\": \"High\", \"idx\": 1408593600000, \"val\": 258.8}, {\"col\": \"High\", \"idx\": 1408680000000, \"val\": 256.95}]}], \"height\": 500, \"legends\": [], \"marks\": [{\"from\": {\"data\": \"table\", \"transform\": [{\"keys\": [\"data.col\"], \"type\": \"facet\"}]}, \"marks\": [{\"properties\": {\"enter\": {\"stroke\": {\"field\": \"data.col\", \"scale\": \"color\"}, \"strokeWidth\": {\"value\": 2}, \"x\": {\"field\": \"data.idx\", \"scale\": \"x\"}, \"y\": {\"field\": \"data.val\", \"scale\": \"y\"}}}, \"type\": \"line\"}], \"type\": \"group\"}], \"padding\": \"auto\", \"scales\": [{\"domain\": {\"data\": \"table\", \"field\": \"data.idx\"}, \"name\": \"x\", \"range\": \"width\", \"type\": \"time\"}, {\"domain\": {\"data\": \"table\", \"field\": \"data.val\"}, \"name\": \"y\", \"nice\": true, \"range\": \"height\"}, {\"domain\": {\"data\": \"table\", \"field\": \"data.col\"}, \"name\": \"color\", \"range\": \"category20\", \"type\": \"ordinal\"}], \"width\": 960}, function(chart) {\n",
        "         chart({el: \"#visf67fc32de6994c5ca5cad95af6b3288e\"}).update();\n",
        "       });\n",
        "     };\n",
        "     _do_plot();\n",
        "   })();\n",
        "</script>\n",
        "<style>.vega canvas {width: 100%;}</style>\n",
        "        "
       ],
       "metadata": {},
       "output_type": "display_data",
       "text": [
        "<IPython.core.display.HTML at 0x10ba53b10>"
       ]
      }
     ],
     "prompt_number": 8
    },
    {
     "cell_type": "code",
     "collapsed": false,
     "input": [
      "line.to_json('line.json', html_out=True, html_path='index.html')"
     ],
     "language": "python",
     "metadata": {},
     "outputs": [],
     "prompt_number": 5
    }
   ],
   "metadata": {}
  }
 ]
}